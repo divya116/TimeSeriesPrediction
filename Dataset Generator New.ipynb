{
 "cells": [
  {
   "cell_type": "code",
   "execution_count": 2,
   "metadata": {},
   "outputs": [],
   "source": [
    "import pandas as pd\n",
    "from random import randint\n",
    "from datetime import date, timedelta\n",
    "import calendar"
   ]
  },
  {
   "cell_type": "code",
   "execution_count": 3,
   "metadata": {},
   "outputs": [],
   "source": [
    "def amount_generator(k):\n",
    "    return \"\".join([str(randint(1,9)) for i in range(k)])"
   ]
  },
  {
   "cell_type": "code",
   "execution_count": 4,
   "metadata": {},
   "outputs": [],
   "source": [
    "data = []\n",
    "clients = ['HSBC', 'BNY Mellon', 'Goldman Sachs', 'Deutsche Bank', 'JP Morgan', 'Bank of America','Barclays']\n",
    "le = ['CitiBank New York','CitiBank London','CitiBank Pune','CitiBank Singapore','CitiBank HongKong']"
   ]
  },
  {
   "cell_type": "code",
   "execution_count": 5,
   "metadata": {},
   "outputs": [],
   "source": [
    "for client in clients:\n",
    "    for entity in le:\n",
    "        start_date = date(2009, 12, 1)\n",
    "        for i in range(100):\n",
    "            days_in_month = calendar.monthrange(start_date.year, start_date.month)[1]\n",
    "            dt = start_date + timedelta(days=days_in_month)\n",
    "            #output_class = random.choice(['Receive','Deliver'])\n",
    "            ramount = int(str(5 + int(i/20)) + amount_generator(4))     \n",
    "            damount = int(str(5 + int(i/20)) + amount_generator(4))\n",
    "            net = ramount - damount\n",
    "            row = [client, entity, ramount, damount, net, dt]\n",
    "            start_date = dt\n",
    "            data.append(row)"
   ]
  },
  {
   "cell_type": "code",
   "execution_count": 6,
   "metadata": {},
   "outputs": [],
   "source": [
    "df = pd.DataFrame(data, columns = ['Client Name', 'Legal Entity', 'Received Amount', 'Delivered Amount', 'Net Amount', 'Date'])\n",
    "df.set_index('Date',inplace = True)"
   ]
  },
  {
   "cell_type": "code",
   "execution_count": 12,
   "metadata": {},
   "outputs": [],
   "source": [
    "index_names = df[df['Net Amount'] == 0].index\n",
    "df.drop(index_names, inplace = True)\n",
    "df.dropna(inplace = True)"
   ]
  },
  {
   "cell_type": "code",
   "execution_count": 13,
   "metadata": {},
   "outputs": [
    {
     "data": {
      "text/plain": [
       "(3500, 5)"
      ]
     },
     "execution_count": 13,
     "metadata": {},
     "output_type": "execute_result"
    }
   ],
   "source": [
    "df.shape"
   ]
  },
  {
   "cell_type": "code",
   "execution_count": 14,
   "metadata": {},
   "outputs": [],
   "source": [
    "df.to_csv(r'G:\\temp\\dataset.csv')"
   ]
  },
  {
   "cell_type": "code",
   "execution_count": null,
   "metadata": {},
   "outputs": [],
   "source": []
  },
  {
   "cell_type": "code",
   "execution_count": null,
   "metadata": {},
   "outputs": [],
   "source": []
  }
 ],
 "metadata": {
  "kernelspec": {
   "display_name": "Python 3",
   "language": "python",
   "name": "python3"
  },
  "language_info": {
   "codemirror_mode": {
    "name": "ipython",
    "version": 3
   },
   "file_extension": ".py",
   "mimetype": "text/x-python",
   "name": "python",
   "nbconvert_exporter": "python",
   "pygments_lexer": "ipython3",
   "version": "3.7.7"
  }
 },
 "nbformat": 4,
 "nbformat_minor": 4
}
