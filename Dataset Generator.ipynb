{
 "cells": [
  {
   "cell_type": "code",
   "execution_count": 1,
   "metadata": {},
   "outputs": [],
   "source": [
    "import pandas as pd\n",
    "from random import randint\n",
    "from datetime import date, timedelta\n",
    "import calendar"
   ]
  },
  {
   "cell_type": "code",
   "execution_count": 2,
   "metadata": {},
   "outputs": [],
   "source": [
    "def amount_generator(k):\n",
    "    return int(\"\".join([str(randint(1,9)) for i in range(k)]))"
   ]
  },
  {
   "cell_type": "code",
   "execution_count": 3,
   "metadata": {},
   "outputs": [],
   "source": [
    "data = []\n",
    "clients = ['HSBC', 'BNY Mellon', 'Goldman Sachs', 'Deutsche Bank', 'JP Morgan', 'Bank of America','Barclays']"
   ]
  },
  {
   "cell_type": "code",
   "execution_count": 4,
   "metadata": {},
   "outputs": [],
   "source": [
    "for i in range(len(clients)):\n",
    "    start_date = date(2009, 12, 1)\n",
    "    for j in range(100):\n",
    "        days_in_month = calendar.monthrange(start_date.year, start_date.month)[1]\n",
    "        dt = start_date + timedelta(days=days_in_month)\n",
    "        #output_class = random.choice(['Receive','Deliver'])\n",
    "        row = [clients[i],amount_generator(5),dt]\n",
    "        start_date = dt\n",
    "        data.append(row)"
   ]
  },
  {
   "cell_type": "code",
   "execution_count": 5,
   "metadata": {},
   "outputs": [
    {
     "name": "stdout",
     "output_type": "stream",
     "text": [
      "           Client Name  Amount\n",
      "Date                          \n",
      "2010-01-01        HSBC   57384\n",
      "2010-02-01        HSBC   66555\n",
      "2010-03-01        HSBC   71756\n",
      "2010-04-01        HSBC   78936\n",
      "2010-05-01        HSBC   97427\n"
     ]
    }
   ],
   "source": [
    "df = pd.DataFrame(data, columns = ['Client Name','Amount','Date'])\n",
    "df.set_index('Date',inplace = True)\n",
    "print(df.head())"
   ]
  },
  {
   "cell_type": "code",
   "execution_count": 6,
   "metadata": {},
   "outputs": [
    {
     "data": {
      "text/plain": [
       "(700, 2)"
      ]
     },
     "execution_count": 6,
     "metadata": {},
     "output_type": "execute_result"
    }
   ],
   "source": [
    "df.shape"
   ]
  },
  {
   "cell_type": "code",
   "execution_count": 7,
   "metadata": {},
   "outputs": [],
   "source": [
    "df.to_csv(r'G:\\Codes\\dataset.csv')"
   ]
  },
  {
   "cell_type": "code",
   "execution_count": null,
   "metadata": {},
   "outputs": [],
   "source": []
  }
 ],
 "metadata": {
  "kernelspec": {
   "display_name": "Python 3",
   "language": "python",
   "name": "python3"
  },
  "language_info": {
   "codemirror_mode": {
    "name": "ipython",
    "version": 3
   },
   "file_extension": ".py",
   "mimetype": "text/x-python",
   "name": "python",
   "nbconvert_exporter": "python",
   "pygments_lexer": "ipython3",
   "version": "3.7.7"
  }
 },
 "nbformat": 4,
 "nbformat_minor": 4
}
