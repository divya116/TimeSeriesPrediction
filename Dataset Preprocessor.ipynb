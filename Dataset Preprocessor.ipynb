{
 "cells": [
  {
   "cell_type": "code",
   "execution_count": 69,
   "metadata": {},
   "outputs": [
    {
     "data": {
      "text/html": [
       "<div>\n",
       "<style scoped>\n",
       "    .dataframe tbody tr th:only-of-type {\n",
       "        vertical-align: middle;\n",
       "    }\n",
       "\n",
       "    .dataframe tbody tr th {\n",
       "        vertical-align: top;\n",
       "    }\n",
       "\n",
       "    .dataframe thead th {\n",
       "        text-align: right;\n",
       "    }\n",
       "</style>\n",
       "<table border=\"1\" class=\"dataframe\">\n",
       "  <thead>\n",
       "    <tr style=\"text-align: right;\">\n",
       "      <th></th>\n",
       "      <th>Client Name</th>\n",
       "      <th>Account ID</th>\n",
       "      <th>Legal Entity</th>\n",
       "      <th>Currency</th>\n",
       "      <th>Payment Type</th>\n",
       "      <th>Paid Amount</th>\n",
       "      <th>Payment Date</th>\n",
       "      <th>Payment Status</th>\n",
       "    </tr>\n",
       "  </thead>\n",
       "  <tbody>\n",
       "    <tr>\n",
       "      <th>0</th>\n",
       "      <td>JPM CHASE</td>\n",
       "      <td>375803</td>\n",
       "      <td>CitiBank NA New York Branch</td>\n",
       "      <td>USD</td>\n",
       "      <td>R</td>\n",
       "      <td>30000.0</td>\n",
       "      <td>2019-01-07</td>\n",
       "      <td>RESOLVED</td>\n",
       "    </tr>\n",
       "    <tr>\n",
       "      <th>1</th>\n",
       "      <td>JPM CHASE</td>\n",
       "      <td>375803</td>\n",
       "      <td>CitiBank NA New York Branch</td>\n",
       "      <td>USD</td>\n",
       "      <td>R</td>\n",
       "      <td>40000.0</td>\n",
       "      <td>2019-01-10</td>\n",
       "      <td>RESOLVED</td>\n",
       "    </tr>\n",
       "    <tr>\n",
       "      <th>2</th>\n",
       "      <td>JPM CHASE</td>\n",
       "      <td>375803</td>\n",
       "      <td>CitiBank NA New York Branch</td>\n",
       "      <td>USD</td>\n",
       "      <td>D</td>\n",
       "      <td>40000.0</td>\n",
       "      <td>2019-01-17</td>\n",
       "      <td>RESOLVED</td>\n",
       "    </tr>\n",
       "    <tr>\n",
       "      <th>3</th>\n",
       "      <td>JPM CHASE</td>\n",
       "      <td>375803</td>\n",
       "      <td>CitiBank NA New York Branch</td>\n",
       "      <td>USD</td>\n",
       "      <td>D</td>\n",
       "      <td>30000.0</td>\n",
       "      <td>2019-01-23</td>\n",
       "      <td>RESOLVED</td>\n",
       "    </tr>\n",
       "    <tr>\n",
       "      <th>4</th>\n",
       "      <td>HDFC BANK LTD-MUMBAI HEAD OFFICE</td>\n",
       "      <td>383857</td>\n",
       "      <td>CitiBank NA New York Branch</td>\n",
       "      <td>INR</td>\n",
       "      <td>R</td>\n",
       "      <td>37660000.0</td>\n",
       "      <td>2019-01-28</td>\n",
       "      <td>RESOLVED</td>\n",
       "    </tr>\n",
       "  </tbody>\n",
       "</table>\n",
       "</div>"
      ],
      "text/plain": [
       "                        Client Name  Account ID                 Legal Entity  \\\n",
       "0                         JPM CHASE      375803  CitiBank NA New York Branch   \n",
       "1                         JPM CHASE      375803  CitiBank NA New York Branch   \n",
       "2                         JPM CHASE      375803  CitiBank NA New York Branch   \n",
       "3                         JPM CHASE      375803  CitiBank NA New York Branch   \n",
       "4  HDFC BANK LTD-MUMBAI HEAD OFFICE      383857  CitiBank NA New York Branch   \n",
       "\n",
       "  Currency Payment Type  Paid Amount Payment Date Payment Status  \n",
       "0      USD            R      30000.0   2019-01-07       RESOLVED  \n",
       "1      USD            R      40000.0   2019-01-10       RESOLVED  \n",
       "2      USD            D      40000.0   2019-01-17       RESOLVED  \n",
       "3      USD            D      30000.0   2019-01-23       RESOLVED  \n",
       "4      INR            R   37660000.0   2019-01-28       RESOLVED  "
      ]
     },
     "execution_count": 69,
     "metadata": {},
     "output_type": "execute_result"
    }
   ],
   "source": [
    "import pandas as pd\n",
    "df = pd.read_excel(r\"G:/temp/Sample_Data.xlsx\")\n",
    "df.head()"
   ]
  },
  {
   "cell_type": "code",
   "execution_count": 70,
   "metadata": {},
   "outputs": [],
   "source": [
    "def modify(x):\n",
    "    x = str(x).lower()\n",
    "    x = x.replace(\" \",\"\")\n",
    "    x = x.replace(\"-\",\"\")\n",
    "    x = x.replace(\"branch\",\"\")\n",
    "    return x"
   ]
  },
  {
   "cell_type": "code",
   "execution_count": 71,
   "metadata": {},
   "outputs": [
    {
     "data": {
      "text/plain": [
       "'citibanklondon'"
      ]
     },
     "execution_count": 71,
     "metadata": {},
     "output_type": "execute_result"
    }
   ],
   "source": [
    "modify(\" Citi-Bank LondOn brAnch\")"
   ]
  },
  {
   "cell_type": "code",
   "execution_count": 72,
   "metadata": {},
   "outputs": [],
   "source": [
    "df['Client Name'] = df['Client Name'].apply(modify)\n",
    "df['Legal Entity'] = df['Legal Entity'].apply(modify)\n",
    "df.drop(['Account ID'], axis=1, inplace = True)"
   ]
  },
  {
   "cell_type": "code",
   "execution_count": 73,
   "metadata": {},
   "outputs": [
    {
     "data": {
      "text/html": [
       "<div>\n",
       "<style scoped>\n",
       "    .dataframe tbody tr th:only-of-type {\n",
       "        vertical-align: middle;\n",
       "    }\n",
       "\n",
       "    .dataframe tbody tr th {\n",
       "        vertical-align: top;\n",
       "    }\n",
       "\n",
       "    .dataframe thead th {\n",
       "        text-align: right;\n",
       "    }\n",
       "</style>\n",
       "<table border=\"1\" class=\"dataframe\">\n",
       "  <thead>\n",
       "    <tr style=\"text-align: right;\">\n",
       "      <th></th>\n",
       "      <th>Client Name</th>\n",
       "      <th>Legal Entity</th>\n",
       "      <th>Currency</th>\n",
       "      <th>Payment Type</th>\n",
       "      <th>Paid Amount</th>\n",
       "      <th>Payment Date</th>\n",
       "      <th>Payment Status</th>\n",
       "    </tr>\n",
       "  </thead>\n",
       "  <tbody>\n",
       "    <tr>\n",
       "      <th>0</th>\n",
       "      <td>jpmchase</td>\n",
       "      <td>citibanknanewyork</td>\n",
       "      <td>USD</td>\n",
       "      <td>R</td>\n",
       "      <td>30000.0</td>\n",
       "      <td>2019-01-07</td>\n",
       "      <td>RESOLVED</td>\n",
       "    </tr>\n",
       "    <tr>\n",
       "      <th>1</th>\n",
       "      <td>jpmchase</td>\n",
       "      <td>citibanknanewyork</td>\n",
       "      <td>USD</td>\n",
       "      <td>R</td>\n",
       "      <td>40000.0</td>\n",
       "      <td>2019-01-10</td>\n",
       "      <td>RESOLVED</td>\n",
       "    </tr>\n",
       "    <tr>\n",
       "      <th>2</th>\n",
       "      <td>jpmchase</td>\n",
       "      <td>citibanknanewyork</td>\n",
       "      <td>USD</td>\n",
       "      <td>D</td>\n",
       "      <td>40000.0</td>\n",
       "      <td>2019-01-17</td>\n",
       "      <td>RESOLVED</td>\n",
       "    </tr>\n",
       "    <tr>\n",
       "      <th>3</th>\n",
       "      <td>jpmchase</td>\n",
       "      <td>citibanknanewyork</td>\n",
       "      <td>USD</td>\n",
       "      <td>D</td>\n",
       "      <td>30000.0</td>\n",
       "      <td>2019-01-23</td>\n",
       "      <td>RESOLVED</td>\n",
       "    </tr>\n",
       "    <tr>\n",
       "      <th>4</th>\n",
       "      <td>hdfcbankltdmumbaiheadoffice</td>\n",
       "      <td>citibanknanewyork</td>\n",
       "      <td>INR</td>\n",
       "      <td>R</td>\n",
       "      <td>37660000.0</td>\n",
       "      <td>2019-01-28</td>\n",
       "      <td>RESOLVED</td>\n",
       "    </tr>\n",
       "  </tbody>\n",
       "</table>\n",
       "</div>"
      ],
      "text/plain": [
       "                   Client Name       Legal Entity Currency Payment Type  \\\n",
       "0                     jpmchase  citibanknanewyork      USD            R   \n",
       "1                     jpmchase  citibanknanewyork      USD            R   \n",
       "2                     jpmchase  citibanknanewyork      USD            D   \n",
       "3                     jpmchase  citibanknanewyork      USD            D   \n",
       "4  hdfcbankltdmumbaiheadoffice  citibanknanewyork      INR            R   \n",
       "\n",
       "   Paid Amount Payment Date Payment Status  \n",
       "0      30000.0   2019-01-07       RESOLVED  \n",
       "1      40000.0   2019-01-10       RESOLVED  \n",
       "2      40000.0   2019-01-17       RESOLVED  \n",
       "3      30000.0   2019-01-23       RESOLVED  \n",
       "4   37660000.0   2019-01-28       RESOLVED  "
      ]
     },
     "execution_count": 73,
     "metadata": {},
     "output_type": "execute_result"
    }
   ],
   "source": [
    "df.head()"
   ]
  },
  {
   "cell_type": "code",
   "execution_count": 74,
   "metadata": {},
   "outputs": [],
   "source": [
    "from datetime import datetime"
   ]
  },
  {
   "cell_type": "code",
   "execution_count": 75,
   "metadata": {},
   "outputs": [],
   "source": [
    "df['Payment Date'] = df['Payment Date'].apply(lambda x : datetime.strptime(str(x).replace(\" 00:00:00\",\"\"),\"%Y-%m-%d\"))"
   ]
  },
  {
   "cell_type": "code",
   "execution_count": 76,
   "metadata": {},
   "outputs": [
    {
     "data": {
      "text/html": [
       "<div>\n",
       "<style scoped>\n",
       "    .dataframe tbody tr th:only-of-type {\n",
       "        vertical-align: middle;\n",
       "    }\n",
       "\n",
       "    .dataframe tbody tr th {\n",
       "        vertical-align: top;\n",
       "    }\n",
       "\n",
       "    .dataframe thead th {\n",
       "        text-align: right;\n",
       "    }\n",
       "</style>\n",
       "<table border=\"1\" class=\"dataframe\">\n",
       "  <thead>\n",
       "    <tr style=\"text-align: right;\">\n",
       "      <th></th>\n",
       "      <th>Client Name</th>\n",
       "      <th>Legal Entity</th>\n",
       "      <th>Currency</th>\n",
       "      <th>Payment Type</th>\n",
       "      <th>Paid Amount</th>\n",
       "      <th>Payment Date</th>\n",
       "      <th>Payment Status</th>\n",
       "    </tr>\n",
       "  </thead>\n",
       "  <tbody>\n",
       "    <tr>\n",
       "      <th>0</th>\n",
       "      <td>jpmchase</td>\n",
       "      <td>citibanknanewyork</td>\n",
       "      <td>USD</td>\n",
       "      <td>R</td>\n",
       "      <td>30000.0</td>\n",
       "      <td>2019-01-07</td>\n",
       "      <td>RESOLVED</td>\n",
       "    </tr>\n",
       "    <tr>\n",
       "      <th>1</th>\n",
       "      <td>jpmchase</td>\n",
       "      <td>citibanknanewyork</td>\n",
       "      <td>USD</td>\n",
       "      <td>R</td>\n",
       "      <td>40000.0</td>\n",
       "      <td>2019-01-10</td>\n",
       "      <td>RESOLVED</td>\n",
       "    </tr>\n",
       "    <tr>\n",
       "      <th>2</th>\n",
       "      <td>jpmchase</td>\n",
       "      <td>citibanknanewyork</td>\n",
       "      <td>USD</td>\n",
       "      <td>D</td>\n",
       "      <td>40000.0</td>\n",
       "      <td>2019-01-17</td>\n",
       "      <td>RESOLVED</td>\n",
       "    </tr>\n",
       "    <tr>\n",
       "      <th>3</th>\n",
       "      <td>jpmchase</td>\n",
       "      <td>citibanknanewyork</td>\n",
       "      <td>USD</td>\n",
       "      <td>D</td>\n",
       "      <td>30000.0</td>\n",
       "      <td>2019-01-23</td>\n",
       "      <td>RESOLVED</td>\n",
       "    </tr>\n",
       "    <tr>\n",
       "      <th>4</th>\n",
       "      <td>hdfcbankltdmumbaiheadoffice</td>\n",
       "      <td>citibanknanewyork</td>\n",
       "      <td>INR</td>\n",
       "      <td>R</td>\n",
       "      <td>37660000.0</td>\n",
       "      <td>2019-01-28</td>\n",
       "      <td>RESOLVED</td>\n",
       "    </tr>\n",
       "  </tbody>\n",
       "</table>\n",
       "</div>"
      ],
      "text/plain": [
       "                   Client Name       Legal Entity Currency Payment Type  \\\n",
       "0                     jpmchase  citibanknanewyork      USD            R   \n",
       "1                     jpmchase  citibanknanewyork      USD            R   \n",
       "2                     jpmchase  citibanknanewyork      USD            D   \n",
       "3                     jpmchase  citibanknanewyork      USD            D   \n",
       "4  hdfcbankltdmumbaiheadoffice  citibanknanewyork      INR            R   \n",
       "\n",
       "   Paid Amount Payment Date Payment Status  \n",
       "0      30000.0   2019-01-07       RESOLVED  \n",
       "1      40000.0   2019-01-10       RESOLVED  \n",
       "2      40000.0   2019-01-17       RESOLVED  \n",
       "3      30000.0   2019-01-23       RESOLVED  \n",
       "4   37660000.0   2019-01-28       RESOLVED  "
      ]
     },
     "execution_count": 76,
     "metadata": {},
     "output_type": "execute_result"
    }
   ],
   "source": [
    "df.head()"
   ]
  },
  {
   "cell_type": "code",
   "execution_count": 77,
   "metadata": {},
   "outputs": [],
   "source": [
    "df.set_index(\"Payment Date\",inplace = True)"
   ]
  },
  {
   "cell_type": "code",
   "execution_count": 78,
   "metadata": {},
   "outputs": [
    {
     "data": {
      "text/html": [
       "<div>\n",
       "<style scoped>\n",
       "    .dataframe tbody tr th:only-of-type {\n",
       "        vertical-align: middle;\n",
       "    }\n",
       "\n",
       "    .dataframe tbody tr th {\n",
       "        vertical-align: top;\n",
       "    }\n",
       "\n",
       "    .dataframe thead th {\n",
       "        text-align: right;\n",
       "    }\n",
       "</style>\n",
       "<table border=\"1\" class=\"dataframe\">\n",
       "  <thead>\n",
       "    <tr style=\"text-align: right;\">\n",
       "      <th></th>\n",
       "      <th>Client Name</th>\n",
       "      <th>Legal Entity</th>\n",
       "      <th>Currency</th>\n",
       "      <th>Payment Type</th>\n",
       "      <th>Paid Amount</th>\n",
       "      <th>Payment Status</th>\n",
       "    </tr>\n",
       "    <tr>\n",
       "      <th>Payment Date</th>\n",
       "      <th></th>\n",
       "      <th></th>\n",
       "      <th></th>\n",
       "      <th></th>\n",
       "      <th></th>\n",
       "      <th></th>\n",
       "    </tr>\n",
       "  </thead>\n",
       "  <tbody>\n",
       "    <tr>\n",
       "      <th>2020-06-23</th>\n",
       "      <td>hdfcbankltdmumbaiheadoffice</td>\n",
       "      <td>citibanknanewyork</td>\n",
       "      <td>INR</td>\n",
       "      <td>D</td>\n",
       "      <td>65440000.0</td>\n",
       "      <td>RESOLVED</td>\n",
       "    </tr>\n",
       "    <tr>\n",
       "      <th>2020-06-24</th>\n",
       "      <td>jpmchase</td>\n",
       "      <td>citibanknanewyork</td>\n",
       "      <td>USD</td>\n",
       "      <td>R</td>\n",
       "      <td>50000.0</td>\n",
       "      <td>RESOLVED</td>\n",
       "    </tr>\n",
       "    <tr>\n",
       "      <th>2020-06-24</th>\n",
       "      <td>bankofbarodamumbaiheadoffice</td>\n",
       "      <td>citibankbombay</td>\n",
       "      <td>INR</td>\n",
       "      <td>D</td>\n",
       "      <td>26680000.0</td>\n",
       "      <td>RESOLVED</td>\n",
       "    </tr>\n",
       "    <tr>\n",
       "      <th>2020-06-25</th>\n",
       "      <td>jpmchase</td>\n",
       "      <td>citibanknanewyork</td>\n",
       "      <td>USD</td>\n",
       "      <td>D</td>\n",
       "      <td>30000.0</td>\n",
       "      <td>PENDING_COLLATERAL</td>\n",
       "    </tr>\n",
       "    <tr>\n",
       "      <th>2020-06-25</th>\n",
       "      <td>hdfcbankltdmumbaiheadoffice</td>\n",
       "      <td>citibanknanewyork</td>\n",
       "      <td>INR</td>\n",
       "      <td>D</td>\n",
       "      <td>21790000.0</td>\n",
       "      <td>PENDING_COLLATERAL</td>\n",
       "    </tr>\n",
       "  </tbody>\n",
       "</table>\n",
       "</div>"
      ],
      "text/plain": [
       "                               Client Name       Legal Entity Currency  \\\n",
       "Payment Date                                                             \n",
       "2020-06-23     hdfcbankltdmumbaiheadoffice  citibanknanewyork      INR   \n",
       "2020-06-24                        jpmchase  citibanknanewyork      USD   \n",
       "2020-06-24    bankofbarodamumbaiheadoffice     citibankbombay      INR   \n",
       "2020-06-25                        jpmchase  citibanknanewyork      USD   \n",
       "2020-06-25     hdfcbankltdmumbaiheadoffice  citibanknanewyork      INR   \n",
       "\n",
       "             Payment Type  Paid Amount      Payment Status  \n",
       "Payment Date                                                \n",
       "2020-06-23              D   65440000.0            RESOLVED  \n",
       "2020-06-24              R      50000.0            RESOLVED  \n",
       "2020-06-24              D   26680000.0            RESOLVED  \n",
       "2020-06-25              D      30000.0  PENDING_COLLATERAL  \n",
       "2020-06-25              D   21790000.0  PENDING_COLLATERAL  "
      ]
     },
     "execution_count": 78,
     "metadata": {},
     "output_type": "execute_result"
    }
   ],
   "source": [
    "df.tail()"
   ]
  },
  {
   "cell_type": "code",
   "execution_count": 79,
   "metadata": {},
   "outputs": [],
   "source": [
    "#df.to_csv(r'G:/temp/processed_data.csv')"
   ]
  },
  {
   "cell_type": "code",
   "execution_count": 80,
   "metadata": {},
   "outputs": [],
   "source": [
    "df = df[df['Payment Status'] == 'RESOLVED']"
   ]
  },
  {
   "cell_type": "code",
   "execution_count": 81,
   "metadata": {},
   "outputs": [],
   "source": [
    "from random import randint\n",
    "def change(x):\n",
    "    li = [d for d in str(x)]\n",
    "    l = li[:3]\n",
    "    l.append(str(randint(0,9)) + str(randint(0,9)))\n",
    "    x = int(\"\".join(l))\n",
    "    return x"
   ]
  },
  {
   "cell_type": "code",
   "execution_count": 82,
   "metadata": {},
   "outputs": [],
   "source": [
    "import numpy as np\n",
    "newdf = pd.DataFrame(np.repeat(df.values,3,axis=0))\n",
    "newdf.columns = df.columns\n",
    "newdf.index = list(df.index) * 3\n",
    "newdf['Paid Amount'] = newdf['Paid Amount'].apply(change)\n",
    "df = newdf"
   ]
  },
  {
   "cell_type": "code",
   "execution_count": 83,
   "metadata": {},
   "outputs": [],
   "source": [
    "#df[df['Payment Type'] == 'D'].loc[:,'Paid Amount'] = df[df['Payment Type'] == 'D']['Paid Amount']*(-1)"
   ]
  },
  {
   "cell_type": "code",
   "execution_count": 84,
   "metadata": {},
   "outputs": [],
   "source": [
    "#df['Paid Amount'] = df['Paid Amount'].apply(lambda x : -x if df.loc[df['Paid Amount'],'Payment Type'] == 'D' else x)"
   ]
  },
  {
   "cell_type": "code",
   "execution_count": 85,
   "metadata": {},
   "outputs": [],
   "source": [
    "df['Paid Amount'].where(df['Payment Type']!='D', (-1)*df['Paid Amount'], inplace = True)\n",
    "df['Paid Amount'].where(df['Currency']!='INR', (0.013)*df['Paid Amount'], inplace = True)\n",
    "df['Paid Amount'].where(df['Currency']!='GBP', (1.24) * df['Paid Amount'], inplace = True)"
   ]
  },
  {
   "cell_type": "code",
   "execution_count": 86,
   "metadata": {},
   "outputs": [],
   "source": [
    "df.drop(['Payment Type','Payment Status','Currency'], axis = 1, inplace = True)"
   ]
  },
  {
   "cell_type": "code",
   "execution_count": 87,
   "metadata": {},
   "outputs": [
    {
     "name": "stdout",
     "output_type": "stream",
     "text": [
      "           Client Name       Legal Entity  Paid Amount\n",
      "2019-01-07    jpmchase  citibanknanewyork      30059.0\n",
      "2019-01-10    jpmchase  citibanknanewyork      30084.0\n",
      "2019-01-17    jpmchase  citibanknanewyork      30058.0\n",
      "2019-01-23    jpmchase  citibanknanewyork      40099.0\n",
      "2019-01-28    jpmchase  citibanknanewyork      40078.0\n",
      "                             Client Name       Legal Entity  Paid Amount\n",
      "2020-06-19                      jpmchase  citibanknanewyork    50039.000\n",
      "2020-06-22                      jpmchase  citibanknanewyork    50036.000\n",
      "2020-06-23  bankofbarodamumbaiheadoffice     citibankbombay     -346.112\n",
      "2020-06-24  bankofbarodamumbaiheadoffice     citibankbombay     -346.814\n",
      "2020-06-24  bankofbarodamumbaiheadoffice     citibankbombay     -345.826\n"
     ]
    }
   ],
   "source": [
    "print(df.head())\n",
    "print(df.tail())"
   ]
  },
  {
   "cell_type": "code",
   "execution_count": 71,
   "metadata": {},
   "outputs": [],
   "source": [
    "df.to_csv(r'G:/temp/processed_data.csv')"
   ]
  }
 ],
 "metadata": {
  "kernelspec": {
   "display_name": "Python 3",
   "language": "python",
   "name": "python3"
  },
  "language_info": {
   "codemirror_mode": {
    "name": "ipython",
    "version": 3
   },
   "file_extension": ".py",
   "mimetype": "text/x-python",
   "name": "python",
   "nbconvert_exporter": "python",
   "pygments_lexer": "ipython3",
   "version": "3.7.7"
  }
 },
 "nbformat": 4,
 "nbformat_minor": 4
}
